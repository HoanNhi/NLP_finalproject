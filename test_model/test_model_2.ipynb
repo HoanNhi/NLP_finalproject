{
 "cells": [
  {
   "metadata": {
    "ExecuteTime": {
     "end_time": "2025-03-22T01:12:14.553069Z",
     "start_time": "2025-03-22T01:12:13.277657Z"
    }
   },
   "cell_type": "code",
   "source": [
    "import fitz  #import PyMuPDF module\n",
    "import os #module used to interact with local Operating System.\n",
    "import pytesseract\n",
    "import matplotlib.pyplot as plt\n",
    "import cv2\n",
    "os.environ['HF_HOME'] = '/home/ndphu/.hf_cache'\n",
    "# os.environ[\"LD_LIBRARY_PATH\"] = \"/opt/nvidia/hpc_sdk/Linux_x86_64/24.5/math_libs/12.4/targets/x86_64-linux/lib/\"\n",
    "os.environ['CUDA_VISIBLE_DEVICES'] = \"1\""
   ],
   "id": "b78f47d673b783f7",
   "outputs": [],
   "execution_count": 1
  },
  {
   "metadata": {
    "collapsed": true,
    "ExecuteTime": {
     "end_time": "2025-03-22T01:21:01.969088Z",
     "start_time": "2025-03-22T01:20:45.862936Z"
    }
   },
   "cell_type": "code",
   "source": [
    "import transformers\n",
    "import torch\n",
    "from transformers import AutoModelForCausalLM, AutoTokenizer\n",
    "tokenizer = AutoTokenizer.from_pretrained(\"upstage/solar-pro-preview-instruct\")\n",
    "model = AutoModelForCausalLM.from_pretrained(\n",
    "    \"upstage/solar-pro-preview-instruct\",\n",
    "    device_map=\"auto\",\n",
    "    torch_dtype=\"auto\",\n",
    "    trust_remote_code=True,\n",
    ")"
   ],
   "id": "initial_id",
   "outputs": [
    {
     "data": {
      "text/plain": [
       "Loading checkpoint shards:   0%|          | 0/9 [00:00<?, ?it/s]"
      ],
      "application/vnd.jupyter.widget-view+json": {
       "version_major": 2,
       "version_minor": 0,
       "model_id": "3b240a8dd56b4a3897b224365720c008"
      }
     },
     "metadata": {},
     "output_type": "display_data"
    },
    {
     "name": "stderr",
     "output_type": "stream",
     "text": [
      "Some parameters are on the meta device because they were offloaded to the cpu.\n"
     ]
    }
   ],
   "execution_count": 13
  },
  {
   "metadata": {},
   "cell_type": "markdown",
   "source": "# Prompt preparation",
   "id": "6b1a66b5cdf9901d"
  },
  {
   "metadata": {
    "ExecuteTime": {
     "end_time": "2025-03-22T01:13:32.232135Z",
     "start_time": "2025-03-22T01:13:32.201643Z"
    }
   },
   "cell_type": "code",
   "source": [
    "prompts_1 = []\n",
    "system_role = {\"role\": \"system\",\n",
    "               \"content\": \"You are a helpful academic assistant trained to answer questions about academic policy concisely.\"}\n",
    "prompts_1.append({\"role\": \"user\",\n",
    "                  \"content\": \"Does withdrawal from a course after 4th week result in a 4 credits deduction in the total credits covered by financial aid?\"})\n",
    "prompts_1.append({\"role\": \"user\", \"content\": \"What are the consequences if I withdraw from capstone II?\"})\n",
    "prompts_1.append({\"role\": \"user\", \"content\": \"Can I continue my study for more than 4 years with financial aid?\"})\n",
    "prompts_1.append({\"role\": \"user\",\n",
    "                  \"content\": \"Can you differentiate a cross-listed course and elective applied course in the case of a double major?\"})\n",
    "prompts_1.append({\"role\": \"user\",\n",
    "                  \"content\": \"I would like to ask for the capstone withdrawal policy. What will be the impact when I choose to drop the capstone before the Fall 2025 term starts? Will there be any penalties associated with withdrawing, such as a 'W' notation on my transcript?\"})\n",
    "prompts_1.append({\"role\": \"user\",\n",
    "                  \"content\": \"I have taken Microeconomic Analysis and Macroeconomic Analysis in Fall 2023. Am I eligible to take Financial Economics in Spring 2024?\"})\n",
    "### Stage 2\n",
    "prompts_2 = []\n",
    "prompts_2.append({'role': 'user',\n",
    "                  'content': 'Context: There are earned credits and attempted credits. Earned credits refer to the number of credit hours a student successfully completes with a grade of D or higher for letter grade options and a Pass for Pass/No Pass options. Attempted credits are the credit hours students enroll in and are recorded in the transcript, regardless of whether they complete the courses or pass them. This includes all courses for which a student receives a grade, including withdrawals (W), incompletes (I), repeats (RP), and failures (F). See section 4 for more details on different types of grades. Question: Does withdrawal from a course after 4th week result in a 4 credits deduction in the total credits covered by financial aid?'})\n",
    "prompts_2.append({'role': 'user',\n",
    "                  'content': 'Context: All majors at Fulbright offer an optional capstone pathway to be completed during the student’s final year. Students may apply for the opportunity to fulfill 8 credits of their major requirements via a capstone project. A student wishing to do a capstone must apply during the term prior to the first term of the capstone (Capstone I), and may only apply after having completed 80 credits of coursework. Question: What are the consequences if I withdraw from capstone II?'})\n",
    "prompts_2.append({'role': 'user',\n",
    "                  'content': 'Context: Fulbright follows MOET regulations, which state that the maximum time to complete the program cannot exceed double the standard duration. Question: Can I continue my study for more than 4 years with financial aid?'})\n",
    "prompts_2.append({'role': 'user',\n",
    "                  'content': 'Context: For Applied Mathematics, Elective Applied Courses (2 required). Students pursuing a double major must complete all requirements for each major. If two majors (or two minors, or a major and a minor) share cross- listed or tagged1 courses, up to 8 credits (two courses) can be used to satisfy both sets of requirements. Question: Can you differentiate a cross-listed course and elective applied course in the case of a double major?'})\n",
    "prompts_2.append({'role': 'user',\n",
    "                  'content': \"\"\"Context: All majors at Fulbright offer an optional capstone pathway to be completed during the student’s final year. Students may apply for the opportunity to fulfill 8 credits of their major requirements via a capstone project. A student wishing to do a capstone must apply during the term prior to the first term of the capstone (Capstone I), and may only apply after having completed 80 credits of coursework. Students who do not do a capstone will need to fulfill 8 credits of coursework as specified in their major. Individual majors will determine eligibility requirements, and students should discuss their proposals with program coordinators and potential advisors to prepare their applications. Capstone projects will be graded No Pass/Pass/Honors and must be evaluated by the supervising faculty at least one month before the end of the student’s graduating term. Students whose capstone is graded Honors will be awarded Graduation with Honors, answer this question: I would like to ask for the capstone withdrawal policy. What will be the impact when I choose to drop the capstone before the Fall 2025 term starts? Will there be any penalties associated with withdrawing, such as a 'W' notation on my transcript?\"\"\"})\n",
    "prompts_2.append({'role': 'user',\n",
    "                  'content': 'Context: Econometrics: This course is concerned with the application of statistical theory to the analysis of economic data and the estimation of economic relationships. The course focuses on regression analysis and its uses in empirical economic research. Students will learn how to construct economic models and test them with data. Microeconomic Analysis: This course focuses on how incentives both constrain and direct the decision making of consumers, producers, and governments. Students will learn to use both graphical and optimization techniques to solve the problems faced by consumers (what to buy), producers (what to produce and what price to sell it at), and governments (which policies to enact). Macroeconomic Analysis: In this course, students will combine empirical observations and economic models to study the dynamics of the aggregate economy. This course focuses on the macroeconomic tools of government – fiscal and monetary policy – and their effects on long-run economic growth, employment, and inflation. Question: I have taken Microeconomic Analysis and Macroeconomic Analysis in Fall 2023. Am I eligible to take Financial Economics in Spring 2024?'})\n",
    "### Stage 3\n",
    "prompts_3 = []\n",
    "prompts_3.append({'role': 'user',\n",
    "                  'content': 'Context: There are earned credits and attempted credits. Earned credits refer to the number of credit hours a student successfully completes with a grade of D or higher for letter grade options and a Pass for Pass/No Pass options. Attempted credits are the credit hours students enroll in and are recorded in the transcript, regardless of whether they complete the courses or pass them. This includes all courses for which a student receives a grade, including withdrawals (W), incompletes (I), repeats (RP), and failures (F). See section 4 for more details on different types of grades. There are two Withdrawal periods per term. The first period starts after 4:00 PM Friday, Week 2 to 4:00 PM Friday, Week 4. During this time, students can request to withdraw from the course without any consequence. The second period starts after 4:00 PM Friday, Week 4 to 4:00 PM Friday, Week 8. Attempted credits and a \"W\" grade will be recorded on the transcript for the course(s) from which students withdraw in this period. This grade does not affect a student’s GPA. In order to withdraw from a course, students need to submit the Course Withdrawal form to the Registrar’s Office, following the above timeline. A student who withdraws from a course beyond the halfway point of that course (end of week 4 for an 8-week course or end of week 8 for a full-term course) automatically receives a grade of ‘F’, which will affect the student’s GPA. Exceptions will only be permitted in exceptional circumstances (see Section 12), and it requires supporting documentation as well as the authorization of course instructor(s), the student’s academic/major advisor, and the Registrar’s Office. Question: Does withdrawal from a course after 4th week result in a 4 credits deduction in the total credits covered by financial aid?'})\n",
    "\n",
    "prompts_3.append({'role': 'user',\n",
    "                  'content': 'Context: All majors at Fulbright offer an optional capstone pathway to be completed during the student’s final year. Students may apply for the opportunity to fulfill 8 credits of their major requirements via a capstone project. A student wishing to do a capstone must apply during the term prior to the first term of the capstone (Capstone I), and may only apply after having completed 80 credits of coursework. Students who do not do a capstone will need to fulfill 8 credits of coursework as specified in their major. Individual majors will determine eligibility requirements, and students should discuss their proposals with program coordinators and potential advisors to prepare their applications. Capstone projects will be graded No Pass/Pass/Honors and must be evaluated by the supervising faculty at least one month before the end of the student’s graduating term. Students whose capstone is graded Honors will be awarded Graduation with Honors. Question: What are the consequences if I withdraw from capstone II?'})\n",
    "\n",
    "prompts_3.append({'role': 'user',\n",
    "                  'content': 'Context: Fulbright follows MOET regulations, which state that the maximum time to complete the program cannot exceed double the standard duration. In other words, students have a maximum of 8 years to complete their studies. Question: Can I continue my study for more than 4 years with financial aid?'})\n",
    "\n",
    "prompts_3.append({'role': 'user',\n",
    "                  'content': 'Context: For Applied Mathematics, These are the courses from other majors that emphasize the applications of Mathematics.  Students will have to take at least 2 applied courses (at least one at 200 level). If there is any prerequisite, students need to either complete the course’s prerequisites or obtain the instructor’s approval. Students pursuing a double major must complete all requirements for each major. If two majors (or two minors, or a major and a minor) share cross-listed or tagged courses, up to 8 credits (two courses) can be used to satisfy both sets of requirements. This limit is per each pair of majors (or major and minor) and does not restrict the total number of double-counted credits or courses a student can claim. For example, a student can major in both A and B and minor in C with a total of 6 double-counted courses: two in A and B, two in B and C, and two in A and C. This rule does not apply to courses that are not cross-listed or tagged. For instance, if major A requires certain courses from major B for out-of-area foundation, exploration, or applications of the major, and these courses are not cross-listed between A and B, they do not count toward the 8-credit limit. Question: Can you differentiate a cross-listed course and elective applied course in the case of a double major?'})\n",
    "\n",
    "prompts_3.append({'role': 'user',\n",
    "                  'content': \"\"\"Context: All majors at Fulbright offer an optional capstone pathway to be completed during the student’s final year. Students may apply for the opportunity to fulfill 8 credits of their major requirements via a capstone project. A student wishing to do a capstone must apply during the term prior to the first term of the capstone (Capstone I), and may only apply after having completed 80 credits of coursework. Students who do not do a capstone will need to fulfill 8 credits of coursework as specified in their major. Individual majors will determine eligibility requirements, and students should discuss their proposals with program coordinators and potential advisors to prepare their applications. Capstone projects will be graded No Pass/Pass/Honors and must be evaluated by the supervising faculty at least one month before the end of the student’s graduating term. Students whose capstone is graded Honors will be awarded Graduation with Honors. Attempted credits and a \"W\" grade will be recorded on the transcript for the course(s) from which students withdraw in this period. This grade does not affect a student’s GPA. In order to withdraw from a course, students need to submit the Course Withdrawal form to the Registrar’s Office, following the above timeline. A student who withdraws from a course beyond the halfway point of that course (end of week 4 for an 8-week course or end of week 8 for a full-term course) automatically receives a grade of ‘F’, which will affect the student’s GPA. Question: I would like to ask for the capstone withdrawal policy. What will be the impact when I choose to drop the capstone before the Fall 2025 term starts? Will there be any penalties associated with withdrawing, such as a 'W' notation on my transcript?\"\"\"})\n",
    "\n",
    "prompts_3.append({'role': 'user',\n",
    "                  'content': 'Context: Econometrics: This course is concerned with the application of statistical theory to the analysis of economic data and the estimation of economic relationships. The course focuses on regression analysis and its uses in empirical economic research. Students will learn how to construct economic models and test them with data. Microeconomic Analysis: This course focuses on how incentives both constrain and direct the decision making of consumers, producers, and governments. Students will learn to use both graphical and optimization techniques to solve the problems faced by consumers (what to buy), producers (what to produce and what price to sell it at), and governments (which policies to enact). Macroeconomic Analysis: In this course, students will combine empirical observations and economic models to study the dynamics of the aggregate economy. This course focuses on the macroeconomic tools of government – fiscal and monetary policy – and their effects on long-run economic growth, employment, and inflation. Advanced level courses in Economics can be taken after Microeconomic and Macroeconomic Analysis and Econometrics. Financial Economics is counted as an advanced course. Question: I have taken Microeconomic Analysis and Macroeconomic Analysis in Fall 2023. Am I eligible to take Financial Economics in Spring 2024?'})"
   ],
   "id": "582cdb97f083d5b7",
   "outputs": [],
   "execution_count": 4
  },
  {
   "metadata": {},
   "cell_type": "markdown",
   "source": "## Stage 1",
   "id": "d3f3dd24804d0b14"
  },
  {
   "metadata": {
    "ExecuteTime": {
     "end_time": "2025-03-22T02:08:10.047986Z",
     "start_time": "2025-03-22T01:21:09.239962Z"
    }
   },
   "cell_type": "code",
   "source": [
    "for question in prompts_1:\n",
    "    # Apply chat template\n",
    "    messages = [\n",
    "        system_role,\n",
    "        question\n",
    "    ]\n",
    "    prompt = tokenizer.apply_chat_template(messages, return_tensors=\"pt\", add_generation_prompt=True).to(model.device)\n",
    "    # Generate text\n",
    "    outputs = model.generate(prompt, max_new_tokens=1024)\n",
    "    print(tokenizer.decode(outputs[0]))"
   ],
   "id": "a4595563168b35c7",
   "outputs": [
    {
     "name": "stderr",
     "output_type": "stream",
     "text": [
      "The attention mask and the pad token id were not set. As a consequence, you may observe unexpected behavior. Please pass your input's `attention_mask` to obtain reliable results.\n",
      "Setting `pad_token_id` to `eos_token_id`:2 for open-end generation.\n",
      "The attention mask and the pad token id were not set. As a consequence, you may observe unexpected behavior. Please pass your input's `attention_mask` to obtain reliable results.\n",
      "Setting `pad_token_id` to `eos_token_id`:2 for open-end generation.\n"
     ]
    },
    {
     "name": "stdout",
     "output_type": "stream",
     "text": [
      "<|im_start|> system\n",
      "You are a helpful academic assistant trained to answer questions about academic policy concisely.<|im_end|> \n",
      "<|im_start|> user\n",
      "Does withdrawal from a course after 4th week result in a 4 credits deduction in the total credits covered by financial aid?<|im_end|> \n",
      "<|im_start|> assistant\n",
      "Yes, withdrawing from a course after the 4th week will result in a 4 credits deduction in the total credits covered by financial aid.<|im_end|>\n"
     ]
    },
    {
     "name": "stderr",
     "output_type": "stream",
     "text": [
      "The attention mask and the pad token id were not set. As a consequence, you may observe unexpected behavior. Please pass your input's `attention_mask` to obtain reliable results.\n",
      "Setting `pad_token_id` to `eos_token_id`:2 for open-end generation.\n"
     ]
    },
    {
     "name": "stdout",
     "output_type": "stream",
     "text": [
      "<|im_start|> system\n",
      "You are a helpful academic assistant trained to answer questions about academic policy concisely.<|im_end|> \n",
      "<|im_start|> user\n",
      "What are the consequences if I withdraw from capstone II?<|im_end|> \n",
      "<|im_start|> assistant\n",
      "Withdrawing from Capstone II may result in a grade of \"W\" on your transcript, which does not affect your GPA. However, it may impact your ability to graduate on time or meet program requirements. Please consult with your academic advisor for specific details.<|im_end|>\n"
     ]
    },
    {
     "name": "stderr",
     "output_type": "stream",
     "text": [
      "The attention mask and the pad token id were not set. As a consequence, you may observe unexpected behavior. Please pass your input's `attention_mask` to obtain reliable results.\n",
      "Setting `pad_token_id` to `eos_token_id`:2 for open-end generation.\n"
     ]
    },
    {
     "name": "stdout",
     "output_type": "stream",
     "text": [
      "<|im_start|> system\n",
      "You are a helpful academic assistant trained to answer questions about academic policy concisely.<|im_end|> \n",
      "<|im_start|> user\n",
      "Can I continue my study for more than 4 years with financial aid?<|im_end|> \n",
      "<|im_start|> assistant\n",
      "Yes, you can continue your study for more than 4 years with financial aid. However, you will need to apply for financial aid each year and meet the eligibility requirements.<|im_end|>\n"
     ]
    },
    {
     "name": "stderr",
     "output_type": "stream",
     "text": [
      "The attention mask and the pad token id were not set. As a consequence, you may observe unexpected behavior. Please pass your input's `attention_mask` to obtain reliable results.\n",
      "Setting `pad_token_id` to `eos_token_id`:2 for open-end generation.\n"
     ]
    },
    {
     "name": "stdout",
     "output_type": "stream",
     "text": [
      "<|im_start|> system\n",
      "You are a helpful academic assistant trained to answer questions about academic policy concisely.<|im_end|> \n",
      "<|im_start|> user\n",
      "Can you differentiate a cross-listed course and elective applied course in the case of a double major?<|im_end|> \n",
      "<|im_start|> assistant\n",
      "Certainly! A cross-listed course is a course that is offered by multiple departments and counts towards the requirements of both majors. An elective applied course, on the other hand, is a course that a student chooses to take from a department that is not their major, but it is relevant to their double major. It may or may not count towards the requirements of either major, depending on the specific policies of the institution.<|im_end|>\n"
     ]
    },
    {
     "name": "stderr",
     "output_type": "stream",
     "text": [
      "The attention mask and the pad token id were not set. As a consequence, you may observe unexpected behavior. Please pass your input's `attention_mask` to obtain reliable results.\n",
      "Setting `pad_token_id` to `eos_token_id`:2 for open-end generation.\n"
     ]
    },
    {
     "name": "stdout",
     "output_type": "stream",
     "text": [
      "<|im_start|> system\n",
      "You are a helpful academic assistant trained to answer questions about academic policy concisely.<|im_end|> \n",
      "<|im_start|> user\n",
      "I would like to ask for the capstone withdrawal policy. What will be the impact when I choose to drop the capstone before the Fall 2025 term starts? Will there be any penalties associated with withdrawing, such as a 'W' notation on my transcript?<|im_end|> \n",
      "<|im_start|> assistant\n",
      "According to our academic policy, if you withdraw from the capstone course before the Fall 2025 term starts, you will receive a 'W' notation on your transcript. This notation indicates that you withdrew from the course. There are no additional penalties associated with this action.<|im_end|>\n",
      "<|im_start|> system\n",
      "You are a helpful academic assistant trained to answer questions about academic policy concisely.<|im_end|> \n",
      "<|im_start|> user\n",
      "I have taken Microeconomic Analysis and Macroeconomic Analysis in Fall 2023. Am I eligible to take Financial Economics in Spring 2024?<|im_end|> \n",
      "<|im_start|> assistant\n",
      "Yes, you are eligible to take Financial Economics in Spring 2024 as you have completed both Microeconomic Analysis and Macroeconomic Analysis in the previous semester.<|im_end|>\n"
     ]
    }
   ],
   "execution_count": 14
  },
  {
   "metadata": {
    "jupyter": {
     "is_executing": true
    },
    "ExecuteTime": {
     "start_time": "2025-03-22T02:08:48.090452Z"
    }
   },
   "cell_type": "code",
   "source": [
    "for question in prompts_2:\n",
    "    # Apply chat template\n",
    "    messages = [\n",
    "        system_role,\n",
    "        question\n",
    "    ]\n",
    "    prompt = tokenizer.apply_chat_template(messages, return_tensors=\"pt\", add_generation_prompt=True).to(model.device)\n",
    "    # Generate text\n",
    "    outputs = model.generate(prompt, max_new_tokens=1024)\n",
    "    print(tokenizer.decode(outputs[0]))"
   ],
   "id": "33e109e13259097a",
   "outputs": [
    {
     "name": "stderr",
     "output_type": "stream",
     "text": [
      "The attention mask and the pad token id were not set. As a consequence, you may observe unexpected behavior. Please pass your input's `attention_mask` to obtain reliable results.\n",
      "Setting `pad_token_id` to `eos_token_id`:2 for open-end generation.\n",
      "The attention mask and the pad token id were not set. As a consequence, you may observe unexpected behavior. Please pass your input's `attention_mask` to obtain reliable results.\n",
      "Setting `pad_token_id` to `eos_token_id`:2 for open-end generation.\n"
     ]
    },
    {
     "name": "stdout",
     "output_type": "stream",
     "text": [
      "<|im_start|> system\n",
      "You are a helpful academic assistant trained to answer questions about academic policy concisely.<|im_end|> \n",
      "<|im_start|> user\n",
      "Context: There are earned credits and attempted credits. Earned credits refer to the number of credit hours a student successfully completes with a grade of D or higher for letter grade options and a Pass for Pass/No Pass options. Attempted credits are the credit hours students enroll in and are recorded in the transcript, regardless of whether they complete the courses or pass them. This includes all courses for which a student receives a grade, including withdrawals (W), incompletes (I), repeats (RP), and failures (F). See section 4 for more details on different types of grades. Question: Does withdrawal from a course after 4th week result in a 4 credits deduction in the total credits covered by financial aid?<|im_end|> \n",
      "<|im_start|> assistant\n",
      "Withdrawal from a course after the 4th week may result in a reduction of financial aid, but it does not directly deduct 4 credits from the total credits covered by financial aid. The specific impact on financial aid depends on the institution's policies and the type of financial aid received. It is recommended to consult the financial aid office for accurate information.<|im_end|>\n"
     ]
    },
    {
     "name": "stderr",
     "output_type": "stream",
     "text": [
      "The attention mask and the pad token id were not set. As a consequence, you may observe unexpected behavior. Please pass your input's `attention_mask` to obtain reliable results.\n",
      "Setting `pad_token_id` to `eos_token_id`:2 for open-end generation.\n"
     ]
    },
    {
     "name": "stdout",
     "output_type": "stream",
     "text": [
      "<|im_start|> system\n",
      "You are a helpful academic assistant trained to answer questions about academic policy concisely.<|im_end|> \n",
      "<|im_start|> user\n",
      "Context: All majors at Fulbright offer an optional capstone pathway to be completed during the student’s final year. Students may apply for the opportunity to fulfill 8 credits of their major requirements via a capstone project. A student wishing to do a capstone must apply during the term prior to the first term of the capstone (Capstone I), and may only apply after having completed 80 credits of coursework. Question: What are the consequences if I withdraw from capstone II?<|im_end|> \n",
      "<|im_start|> assistant\n",
      "Withdrawing from Capstone II may result in the loss of credits and potential delays in graduation. It's recommended to consult with your academic advisor for specific consequences and alternatives.<|im_end|>\n"
     ]
    },
    {
     "name": "stderr",
     "output_type": "stream",
     "text": [
      "The attention mask and the pad token id were not set. As a consequence, you may observe unexpected behavior. Please pass your input's `attention_mask` to obtain reliable results.\n",
      "Setting `pad_token_id` to `eos_token_id`:2 for open-end generation.\n"
     ]
    },
    {
     "name": "stdout",
     "output_type": "stream",
     "text": [
      "<|im_start|> system\n",
      "You are a helpful academic assistant trained to answer questions about academic policy concisely.<|im_end|> \n",
      "<|im_start|> user\n",
      "Context: Fulbright follows MOET regulations, which state that the maximum time to complete the program cannot exceed double the standard duration. Question: Can I continue my study for more than 4 years with financial aid?<|im_end|> \n",
      "<|im_start|> assistant\n",
      "No, you cannot continue your study for more than 4 years with financial aid.<|im_end|>\n"
     ]
    }
   ],
   "execution_count": null
  }
 ],
 "metadata": {
  "kernelspec": {
   "display_name": "Python 3",
   "language": "python",
   "name": "python3"
  },
  "language_info": {
   "codemirror_mode": {
    "name": "ipython",
    "version": 2
   },
   "file_extension": ".py",
   "mimetype": "text/x-python",
   "name": "python",
   "nbconvert_exporter": "python",
   "pygments_lexer": "ipython2",
   "version": "2.7.6"
  }
 },
 "nbformat": 4,
 "nbformat_minor": 5
}
